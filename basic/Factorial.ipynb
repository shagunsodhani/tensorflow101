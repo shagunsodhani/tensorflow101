{
 "cells": [
  {
   "cell_type": "code",
   "execution_count": 1,
   "metadata": {
    "collapsed": true
   },
   "outputs": [],
   "source": [
    "import tensorflow as tf"
   ]
  },
  {
   "cell_type": "code",
   "execution_count": 2,
   "metadata": {
    "collapsed": true
   },
   "outputs": [],
   "source": [
    "result = tf.Variable(1)\n",
    "counter = tf.Variable(1)\n",
    "one = tf.constant(1)\n",
    "new_result = tf.mul(result, counter)\n",
    "update_result = tf.assign(result, new_result)\n",
    "new_counter = tf.add(counter, one)\n",
    "update_counter = tf.assign(counter, new_counter)"
   ]
  },
  {
   "cell_type": "code",
   "execution_count": 3,
   "metadata": {
    "collapsed": true
   },
   "outputs": [],
   "source": [
    "init_op = tf.initialize_all_variables()"
   ]
  },
  {
   "cell_type": "code",
   "execution_count": 4,
   "metadata": {
    "collapsed": false
   },
   "outputs": [
    {
     "name": "stdout",
     "output_type": "stream",
     "text": [
      "Starting result = 1\n",
      "Result = 1\n",
      "Counter = 2\n",
      "Result = 2\n",
      "Counter = 3\n",
      "Result = 6\n",
      "Counter = 4\n",
      "Result = 24\n",
      "Counter = 5\n",
      "Result = 120\n",
      "Counter = 6\n"
     ]
    }
   ],
   "source": [
    "with tf.Session() as sess:\n",
    "    sess.run(init_op)\n",
    "    print \"Starting result = \"+str(sess.run(result))\n",
    "    for _ in xrange(5):\n",
    "        sess.run(update_result)\n",
    "        print \"Result = \"+str(sess.run(result))\n",
    "        sess.run(update_counter)\n",
    "        print \"Counter = \"+str(sess.run(counter))"
   ]
  }
 ],
 "metadata": {
  "kernelspec": {
   "display_name": "Python 2",
   "language": "python",
   "name": "python2"
  },
  "language_info": {
   "codemirror_mode": {
    "name": "ipython",
    "version": 2
   },
   "file_extension": ".py",
   "mimetype": "text/x-python",
   "name": "python",
   "nbconvert_exporter": "python",
   "pygments_lexer": "ipython2",
   "version": "2.7.6"
  }
 },
 "nbformat": 4,
 "nbformat_minor": 0
}
