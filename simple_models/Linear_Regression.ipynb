{
 "cells": [
  {
   "cell_type": "code",
   "execution_count": 1,
   "metadata": {
    "collapsed": true
   },
   "outputs": [],
   "source": [
    "import tensorflow as tf\n",
    "import numpy as np\n",
    "import matplotlib.pyplot as plt"
   ]
  },
  {
   "cell_type": "code",
   "execution_count": 2,
   "metadata": {
    "collapsed": true
   },
   "outputs": [],
   "source": [
    "# Equation y = mx+c\n",
    "c = 10\n",
    "m = 2\n",
    "number_of_points = 200\n",
    "training_split_fraction = 0.8"
   ]
  },
  {
   "cell_type": "code",
   "execution_count": 3,
   "metadata": {
    "collapsed": false
   },
   "outputs": [],
   "source": [
    "# For adding noise to data\n",
    "mu = 0\n",
    "sigma = 0.1\n",
    "noise = np.random.normal(mu, sigma, number_of_points)"
   ]
  },
  {
   "cell_type": "code",
   "execution_count": 4,
   "metadata": {
    "collapsed": false
   },
   "outputs": [],
   "source": [
    "data = np.asarray([(x, m*(x+noise[x])+c) for x in xrange(number_of_points) ])\n",
    "permuted_data = np.random.permutation(data)\n",
    "number_of_samples = int(training_split_fraction*number_of_points)\n",
    "training_data = permuted_data[:number_of_samples]\n",
    "testing_data = permuted_data[number_of_samples:]"
   ]
  },
  {
   "cell_type": "code",
   "execution_count": 5,
   "metadata": {
    "collapsed": false
   },
   "outputs": [],
   "source": [
    "training_x = np.asarray([point[0] for point in training_data])\n",
    "training_y = np.asarray([point[1] for point in training_data])\n",
    "testing_x = np.asarray([point[0] for point in testing_data])\n",
    "testing_y = np.asarray([point[1] for point in testing_data])"
   ]
  },
  {
   "cell_type": "code",
   "execution_count": 6,
   "metadata": {
    "collapsed": false
   },
   "outputs": [],
   "source": [
    "# plot training data\n",
    "plt.plot(training_x, training_y, 'ro', label='Original Training Data')\n",
    "plt.legend()\n",
    "plt.show()"
   ]
  },
  {
   "cell_type": "code",
   "execution_count": 7,
   "metadata": {
    "collapsed": false
   },
   "outputs": [],
   "source": [
    "# tensorflow model building\n",
    "\n",
    "learning_rate = 0.01\n",
    "number_of_training_epochs = 100\n",
    "# display_step = 50\n",
    "\n",
    "X = tf.placeholder(\"float\")\n",
    "Y = tf.placeholder(\"float\")\n",
    "\n",
    "W = tf.Variable(np.random.randn(), name = \"weight\")\n",
    "b = tf.Variable(np.random.randn(), name = \"bias\")\n",
    "\n",
    "linear_regression = tf.add(tf.mul(X, W), b)\n",
    "\n",
    "cost = tf.reduce_sum(tf.square(linear_regression - Y))/(2.0*number_of_samples)\n",
    "optimizer = tf.train.GradientDescentOptimizer(learning_rate).minimize(cost)\n",
    "\n",
    "init = tf.initialize_all_variables()"
   ]
  },
  {
   "cell_type": "code",
   "execution_count": 8,
   "metadata": {
    "collapsed": false
   },
   "outputs": [
    {
     "name": "stdout",
     "output_type": "stream",
     "text": [
      "Training cost = 6.97498\n",
      "Testing cost = 1.96084\n",
      " W = 2.05516 b = 2.46453\n"
     ]
    }
   ],
   "source": [
    "with tf.Session() as sess:\n",
    "    sess.run(init)\n",
    "    for epoch in xrange(number_of_training_epochs):\n",
    "        for (x, y) in training_data:\n",
    "            sess.run(optimizer, feed_dict = {X:x, Y:y})      \n",
    "    _w = sess.run(W)\n",
    "    _b = sess.run(b)\n",
    "    print \"Training cost = \" + str(sess.run(cost, feed_dict = {X:training_x, Y:training_y}))\n",
    "    print \"Testing cost = \"+str(sess.run(cost, feed_dict={X: testing_x, Y:testing_y}))\n",
    "    print \" W = \" + str(_w) + \" b = \" + str(_b)"
   ]
  },
  {
   "cell_type": "code",
   "execution_count": 9,
   "metadata": {
    "collapsed": false
   },
   "outputs": [],
   "source": [
    "plt.plot(training_x, training_y, 'ro', label='Original Testing Data')\n",
    "plt.plot(training_x, (_w * training_x + _b), label='Fitted Testing Line')\n",
    "plt.legend()\n",
    "plt.show()"
   ]
  },
  {
   "cell_type": "code",
   "execution_count": 10,
   "metadata": {
    "collapsed": true
   },
   "outputs": [],
   "source": [
    "plt.plot(testing_x, testing_y, 'ro', label='Original Training Data')\n",
    "plt.plot(testing_x, (_w * testing_x + _b), label='Fitted Testing Line')\n",
    "plt.legend()\n",
    "plt.show()"
   ]
  }
 ],
 "metadata": {
  "kernelspec": {
   "display_name": "Python 2",
   "language": "python",
   "name": "python2"
  },
  "language_info": {
   "codemirror_mode": {
    "name": "ipython",
    "version": 2
   },
   "file_extension": ".py",
   "mimetype": "text/x-python",
   "name": "python",
   "nbconvert_exporter": "python",
   "pygments_lexer": "ipython2",
   "version": "2.7.6"
  }
 },
 "nbformat": 4,
 "nbformat_minor": 0
}
