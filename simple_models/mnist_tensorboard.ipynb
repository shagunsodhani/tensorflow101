{
 "cells": [
  {
   "cell_type": "code",
   "execution_count": 1,
   "metadata": {
    "collapsed": false
   },
   "outputs": [],
   "source": [
    "import tensorflow as tf\n",
    "from tensorflow.examples.tutorials.mnist import input_data"
   ]
  },
  {
   "cell_type": "markdown",
   "metadata": {},
   "source": [
    "You may need to refer [this](http://stackoverflow.com/questions/35114376/error-when-computing-summaries-in-tensorflow)"
   ]
  },
  {
   "cell_type": "code",
   "execution_count": 2,
   "metadata": {
    "collapsed": false
   },
   "outputs": [
    {
     "name": "stdout",
     "output_type": "stream",
     "text": [
      "Extracting ../data/mnist/train-images-idx3-ubyte.gz\n",
      "Extracting ../data/mnist/train-labels-idx1-ubyte.gz\n",
      "Extracting ../data/mnist/t10k-images-idx3-ubyte.gz\n",
      "Extracting ../data/mnist/t10k-labels-idx1-ubyte.gz\n"
     ]
    }
   ],
   "source": [
    "# reading mnist using libraries shipped with tf\n",
    "mnist = input_data.read_data_sets(\"../data/mnist/\", one_hot=True) "
   ]
  },
  {
   "cell_type": "code",
   "execution_count": 3,
   "metadata": {
    "collapsed": true
   },
   "outputs": [],
   "source": [
    "learning_rate = 0.5\n",
    "number_of_epochs = 1000\n",
    "batch_size = 100\n",
    "logs_path = \"logs/\""
   ]
  },
  {
   "cell_type": "code",
   "execution_count": 4,
   "metadata": {
    "collapsed": false
   },
   "outputs": [],
   "source": [
    "#tf model building\n",
    "\n",
    "with tf.name_scope('Model'):\n",
    "    \n",
    "    X = tf.placeholder(tf.float32, [None, 784])\n",
    "    Y = tf.placeholder(tf.float32, [None, 10])\n",
    "    W = tf.Variable(tf.random_normal([784, 10]))\n",
    "    b = tf.Variable(tf.zeros([1, 10]))\n",
    "\n",
    "with tf.name_scope('Prediction'):\n",
    "    softmax_prediction = tf.nn.softmax(tf.add(tf.matmul(X, W), b))\n",
    "\n",
    "with tf.name_scope('Loss'):\n",
    "    cross_entropy_loss = tf.reduce_mean(-tf.reduce_sum(Y*tf.log(softmax_prediction), reduction_indices=[1]))\n",
    "\n",
    "with tf.name_scope('Train'):\n",
    "    train_step = tf.train.GradientDescentOptimizer(learning_rate).minimize(cross_entropy_loss)\n",
    "\n",
    "with tf.name_scope('Accuracy'):\n",
    "    count_correct_prediction = tf.equal(tf.argmax(Y,1), tf.argmax(softmax_prediction,1))\n",
    "    accuracy = tf.reduce_mean(tf.cast(count_correct_prediction, tf.float32))\n",
    "\n",
    "init_op = tf.initialize_all_variables()\n",
    "\n",
    "tf.scalar_summary(\"cross-entropy-loss\", cross_entropy_loss)\n",
    "tf.scalar_summary(\"accuracy\", accuracy)\n",
    "\n",
    "summary_op = tf.merge_all_summaries()"
   ]
  },
  {
   "cell_type": "code",
   "execution_count": 5,
   "metadata": {
    "collapsed": false
   },
   "outputs": [
    {
     "name": "stdout",
     "output_type": "stream",
     "text": [
      "Training Accuracy = 0.877909\n",
      "Testing Accuracy = 0.8828\n"
     ]
    }
   ],
   "source": [
    "with tf.Session() as sess:\n",
    "    sess.run(init_op)\n",
    "    summary_writer = tf.train.SummaryWriter(logs_path, graph=tf.get_default_graph())\n",
    "    for epoch in xrange(number_of_epochs):\n",
    "        batch_xs, batch_ys = mnist.train.next_batch(batch_size)\n",
    "        _, summary_data = sess.run([train_step, summary_op], feed_dict={X: batch_xs, Y: batch_ys})\n",
    "        \n",
    "        if(epoch%10==0):\n",
    "            summary_writer.add_summary(summary_data, epoch)\n",
    "    print \"Training Accuracy = \"+str(sess.run(accuracy, feed_dict={X: mnist.train.images, Y: mnist.train.labels}))\n",
    "    print \"Testing Accuracy = \"+str(sess.run(accuracy, feed_dict={X: mnist.test.images, Y: mnist.test.labels}))"
   ]
  },
  {
   "cell_type": "code",
   "execution_count": null,
   "metadata": {
    "collapsed": true
   },
   "outputs": [],
   "source": []
  }
 ],
 "metadata": {
  "kernelspec": {
   "display_name": "Python 2",
   "language": "python",
   "name": "python2"
  },
  "language_info": {
   "codemirror_mode": {
    "name": "ipython",
    "version": 2
   },
   "file_extension": ".py",
   "mimetype": "text/x-python",
   "name": "python",
   "nbconvert_exporter": "python",
   "pygments_lexer": "ipython2",
   "version": "2.7.6"
  }
 },
 "nbformat": 4,
 "nbformat_minor": 0
}
